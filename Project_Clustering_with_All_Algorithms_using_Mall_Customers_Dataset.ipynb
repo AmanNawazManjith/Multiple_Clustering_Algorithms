{
  "nbformat": 4,
  "nbformat_minor": 0,
  "metadata": {
    "kernelspec": {
      "display_name": "Python 3",
      "language": "python",
      "name": "python3"
    },
    "language_info": {
      "codemirror_mode": {
        "name": "ipython",
        "version": 3
      },
      "file_extension": ".py",
      "mimetype": "text/x-python",
      "name": "python",
      "nbconvert_exporter": "python",
      "pygments_lexer": "ipython3",
      "version": "3.5.3"
    },
    "colab": {
      "name": "09B_Indi_Project_Clustering_with_All_Algorithms_using_Mall_Customers_Dataset.ipynb",
      "provenance": [],
      "collapsed_sections": []
    }
  },
  "cells": [
    {
      "cell_type": "markdown",
      "metadata": {
        "id": "85QEczqJKp2V"
      },
      "source": [
        ""
      ]
    },
    {
      "cell_type": "markdown",
      "metadata": {
        "id": "inoRu5RO_KXj"
      },
      "source": [
        "The dataset used in this notebook is included in the folder of the project."
      ]
    },
    {
      "cell_type": "code",
      "metadata": {
        "id": "IWpLZeEJ_KXq"
      },
      "source": [
        "import numpy as np\n",
        "import pandas as pd \n",
        "import random\n",
        "from sklearn.cluster import KMeans\n",
        "from sklearn.cluster import AgglomerativeClustering\n",
        "from sklearn.cluster import DBSCAN\n",
        "from sklearn.mixture import GaussianMixture\n",
        "from sklearn.metrics import silhouette_score\n",
        "import matplotlib.pyplot as plt\n",
        "%matplotlib inline"
      ],
      "execution_count": null,
      "outputs": []
    },
    {
      "cell_type": "code",
      "metadata": {
        "colab": {
          "base_uri": "https://localhost:8080/"
        },
        "id": "Ig7SbhcyCGaA",
        "outputId": "9521464e-420f-4356-c74f-5e42a0371ad6"
      },
      "source": [
        "# Mount the Google Drive\n",
        "from google.colab import drive\n",
        "drive.mount('/content/gdrive')"
      ],
      "execution_count": null,
      "outputs": [
        {
          "output_type": "stream",
          "name": "stdout",
          "text": [
            "Mounted at /content/gdrive\n"
          ]
        }
      ]
    },
    {
      "cell_type": "code",
      "metadata": {
        "colab": {
          "base_uri": "https://localhost:8080/",
          "height": 224
        },
        "id": "K6EMI9_-CHTP",
        "outputId": "d75ee82a-fd6a-4ddc-ecd3-7f93e01b8761"
      },
      "source": [
        "# Read the Diabetes Data from .csv file and check the data shape (number of Rows and Columns)\n",
        "reduced_data = pd.read_csv('gdrive/My Drive/SRM-MLP-Internship-2021/Projects/Clustering/Data-Files/Mall_Customers_Preprocessed.csv')\n",
        "print(reduced_data.shape)\n",
        "reduced_data.head()"
      ],
      "execution_count": null,
      "outputs": [
        {
          "output_type": "stream",
          "name": "stdout",
          "text": [
            "(200, 2)\n"
          ]
        },
        {
          "output_type": "execute_result",
          "data": {
            "text/html": [
              "<div>\n",
              "<style scoped>\n",
              "    .dataframe tbody tr th:only-of-type {\n",
              "        vertical-align: middle;\n",
              "    }\n",
              "\n",
              "    .dataframe tbody tr th {\n",
              "        vertical-align: top;\n",
              "    }\n",
              "\n",
              "    .dataframe thead th {\n",
              "        text-align: right;\n",
              "    }\n",
              "</style>\n",
              "<table border=\"1\" class=\"dataframe\">\n",
              "  <thead>\n",
              "    <tr style=\"text-align: right;\">\n",
              "      <th></th>\n",
              "      <th>0</th>\n",
              "      <th>1</th>\n",
              "    </tr>\n",
              "  </thead>\n",
              "  <tbody>\n",
              "    <tr>\n",
              "      <th>0</th>\n",
              "      <td>-31.869945</td>\n",
              "      <td>-33.001252</td>\n",
              "    </tr>\n",
              "    <tr>\n",
              "      <th>1</th>\n",
              "      <td>0.764494</td>\n",
              "      <td>-56.842901</td>\n",
              "    </tr>\n",
              "    <tr>\n",
              "      <th>2</th>\n",
              "      <td>-57.408276</td>\n",
              "      <td>-13.124961</td>\n",
              "    </tr>\n",
              "    <tr>\n",
              "      <th>3</th>\n",
              "      <td>-2.168543</td>\n",
              "      <td>-53.478590</td>\n",
              "    </tr>\n",
              "    <tr>\n",
              "      <th>4</th>\n",
              "      <td>-32.174085</td>\n",
              "      <td>-30.388412</td>\n",
              "    </tr>\n",
              "  </tbody>\n",
              "</table>\n",
              "</div>"
            ],
            "text/plain": [
              "           0          1\n",
              "0 -31.869945 -33.001252\n",
              "1   0.764494 -56.842901\n",
              "2 -57.408276 -13.124961\n",
              "3  -2.168543 -53.478590\n",
              "4 -32.174085 -30.388412"
            ]
          },
          "metadata": {},
          "execution_count": 3
        }
      ]
    },
    {
      "cell_type": "markdown",
      "metadata": {
        "id": "c7U-D6ykj9hj"
      },
      "source": [
        "###**1) KMeans Algorithm**"
      ]
    },
    {
      "cell_type": "code",
      "metadata": {
        "id": "MtZNa7_tVGSU"
      },
      "source": [
        "#Taking 5 clusters\n",
        "KM1=KMeans(n_clusters=5)\n",
        "#Fitting the input data\n",
        "KM_Fit=KM1.fit(reduced_data)\n",
        "#predicting the labels of the input data\n",
        "KM_Predict=KM1.predict(reduced_data)"
      ],
      "execution_count": null,
      "outputs": []
    },
    {
      "cell_type": "code",
      "metadata": {
        "id": "fL1hC7fRyeyu",
        "colab": {
          "base_uri": "https://localhost:8080/"
        },
        "outputId": "a05703e0-0b71-48d9-f484-25b580612f53"
      },
      "source": [
        "KM_labels = KM_Fit.labels_\n",
        "KM_labels"
      ],
      "execution_count": null,
      "outputs": [
        {
          "output_type": "execute_result",
          "data": {
            "text/plain": [
              "array([4, 2, 4, 2, 4, 2, 4, 2, 4, 2, 4, 2, 4, 2, 4, 2, 4, 2, 4, 2, 4, 2,\n",
              "       4, 2, 4, 2, 4, 2, 4, 2, 4, 2, 4, 2, 4, 2, 4, 2, 4, 2, 4, 2, 4, 0,\n",
              "       4, 2, 0, 0, 0, 0, 0, 0, 0, 0, 0, 0, 0, 0, 0, 0, 0, 0, 0, 0, 0, 0,\n",
              "       0, 0, 0, 0, 0, 0, 0, 0, 0, 0, 0, 0, 0, 0, 0, 0, 0, 0, 0, 0, 0, 0,\n",
              "       0, 0, 0, 0, 0, 0, 0, 0, 0, 0, 0, 0, 0, 0, 0, 0, 0, 0, 0, 0, 0, 0,\n",
              "       0, 0, 0, 0, 0, 0, 0, 0, 0, 0, 0, 0, 0, 1, 0, 1, 0, 1, 3, 1, 3, 1,\n",
              "       0, 1, 3, 1, 3, 1, 3, 1, 3, 1, 0, 1, 3, 1, 3, 1, 3, 1, 3, 1, 3, 1,\n",
              "       3, 1, 3, 1, 3, 1, 3, 1, 3, 1, 3, 1, 3, 1, 3, 1, 3, 1, 3, 1, 3, 1,\n",
              "       3, 1, 3, 1, 3, 1, 3, 1, 3, 1, 3, 1, 3, 1, 3, 1, 3, 1, 3, 1, 3, 1,\n",
              "       3, 1], dtype=int32)"
            ]
          },
          "metadata": {},
          "execution_count": 5
        }
      ]
    },
    {
      "cell_type": "code",
      "metadata": {
        "colab": {
          "base_uri": "https://localhost:8080/"
        },
        "id": "VuoHToX_yb3o",
        "outputId": "19d858a4-7845-4e88-b86d-ecee43364934"
      },
      "source": [
        "#Frequency count of the Output clusters\n",
        "unique, counts = np.unique(KM_labels, return_counts=True)\n",
        "KM_freq = dict(zip(unique, counts))\n",
        "print(\"Frequency of KMeans Output Clusters\")\n",
        "print(KM_freq)"
      ],
      "execution_count": null,
      "outputs": [
        {
          "output_type": "stream",
          "name": "stdout",
          "text": [
            "Frequency of KMeans Output Clusters\n",
            "{0: 82, 1: 39, 2: 22, 3: 34, 4: 23}\n"
          ]
        }
      ]
    },
    {
      "cell_type": "code",
      "metadata": {
        "colab": {
          "base_uri": "https://localhost:8080/"
        },
        "id": "19kNq0Nkm2aa",
        "outputId": "1ed33126-c267-4721-f066-1ed7ae3d1eb7"
      },
      "source": [
        "print(\"Silhouette Score for 5 Clusters using KMeans Algorithm\")\n",
        "KM_silhouette=silhouette_score(reduced_data,KM_labels)\n",
        "print(KM_silhouette)"
      ],
      "execution_count": null,
      "outputs": [
        {
          "output_type": "stream",
          "name": "stdout",
          "text": [
            "Silhouette Score for 5 Clusters using KMeans Algorithm\n",
            "0.5526264331833407\n"
          ]
        }
      ]
    },
    {
      "cell_type": "markdown",
      "metadata": {
        "id": "Z7mxYgxij6ow"
      },
      "source": [
        "###**2) Hierarchial Clustering Algorithm**"
      ]
    },
    {
      "cell_type": "code",
      "metadata": {
        "id": "g6uNsHn6pSw9"
      },
      "source": [
        "#Taking 5 clusters\n",
        "Agg1 = AgglomerativeClustering(n_clusters=5)\n",
        "#Fitting the input data\n",
        "Agg_Fit= Agg1.fit(reduced_data)"
      ],
      "execution_count": null,
      "outputs": []
    },
    {
      "cell_type": "code",
      "metadata": {
        "id": "86E18NG7qCaF",
        "colab": {
          "base_uri": "https://localhost:8080/"
        },
        "outputId": "4c78f06e-7c9b-44ee-9841-f4667113e738"
      },
      "source": [
        "Agg_labels = Agg_Fit.labels_\n",
        "Agg_labels"
      ],
      "execution_count": null,
      "outputs": [
        {
          "output_type": "execute_result",
          "data": {
            "text/plain": [
              "array([4, 3, 4, 3, 4, 3, 4, 3, 4, 3, 4, 3, 4, 3, 4, 3, 4, 3, 4, 3, 4, 3,\n",
              "       4, 3, 4, 3, 4, 3, 4, 3, 4, 3, 4, 3, 4, 3, 4, 3, 4, 3, 4, 3, 4, 2,\n",
              "       4, 2, 2, 2, 2, 2, 2, 2, 2, 2, 2, 2, 2, 2, 2, 2, 2, 2, 2, 2, 2, 2,\n",
              "       2, 2, 2, 2, 2, 2, 2, 2, 2, 2, 2, 2, 2, 2, 2, 2, 2, 2, 2, 2, 2, 2,\n",
              "       2, 2, 2, 2, 2, 2, 2, 2, 2, 2, 2, 2, 2, 2, 2, 2, 2, 2, 2, 2, 2, 2,\n",
              "       2, 2, 2, 2, 2, 2, 2, 2, 2, 2, 2, 2, 2, 1, 2, 1, 2, 1, 0, 1, 0, 1,\n",
              "       2, 1, 0, 1, 0, 1, 0, 1, 0, 1, 2, 1, 0, 1, 2, 1, 0, 1, 0, 1, 0, 1,\n",
              "       0, 1, 0, 1, 0, 1, 2, 1, 0, 1, 0, 1, 0, 1, 0, 1, 0, 1, 0, 1, 0, 1,\n",
              "       0, 1, 0, 1, 0, 1, 0, 1, 0, 1, 0, 1, 0, 1, 0, 1, 0, 1, 0, 1, 0, 1,\n",
              "       0, 1])"
            ]
          },
          "metadata": {},
          "execution_count": 9
        }
      ]
    },
    {
      "cell_type": "code",
      "metadata": {
        "colab": {
          "base_uri": "https://localhost:8080/"
        },
        "id": "PyxlxYoFzEDK",
        "outputId": "0542df79-30a8-4de4-d39c-bcfe9836085e"
      },
      "source": [
        "#Frequency count of the Output clusters\n",
        "unique, counts = np.unique(Agg_labels, return_counts=True)\n",
        "Agg_freq = dict(zip(unique, counts))\n",
        "print(\"Frequency of Agglomerative Output Clusters\")\n",
        "print(Agg_freq)"
      ],
      "execution_count": null,
      "outputs": [
        {
          "output_type": "stream",
          "name": "stdout",
          "text": [
            "Frequency of Agglomerative Output Clusters\n",
            "{0: 32, 1: 39, 2: 85, 3: 21, 4: 23}\n"
          ]
        }
      ]
    },
    {
      "cell_type": "code",
      "metadata": {
        "colab": {
          "base_uri": "https://localhost:8080/"
        },
        "id": "4kqpgyS_y2-R",
        "outputId": "058924b9-e484-4a49-9404-bc52fcce2cc2"
      },
      "source": [
        "print(\"Silhouette Score for 5 Clusters using Agglomerative Clustering\")\n",
        "Agg_silhouette=silhouette_score(reduced_data,Agg_labels)\n",
        "print(Agg_silhouette)"
      ],
      "execution_count": null,
      "outputs": [
        {
          "output_type": "stream",
          "name": "stdout",
          "text": [
            "Silhouette Score for 5 Clusters using Agglomerative Clustering\n",
            "0.5477785638529052\n"
          ]
        }
      ]
    },
    {
      "cell_type": "markdown",
      "metadata": {
        "id": "yutpEx2wkRBa"
      },
      "source": [
        "###**3) DBSCAN Algorithm**"
      ]
    },
    {
      "cell_type": "code",
      "metadata": {
        "colab": {
          "base_uri": "https://localhost:8080/"
        },
        "id": "R7TpgTR6kZiG",
        "outputId": "b8ee9653-a740-4856-a9d1-687022748212"
      },
      "source": [
        "#Dbscan1 = DBSCAN()\n",
        "Dbscan1 = DBSCAN(eps=2)\n",
        "Dbscan1"
      ],
      "execution_count": null,
      "outputs": [
        {
          "output_type": "execute_result",
          "data": {
            "text/plain": [
              "DBSCAN(algorithm='auto', eps=2, leaf_size=30, metric='euclidean',\n",
              "       metric_params=None, min_samples=5, n_jobs=None, p=None)"
            ]
          },
          "metadata": {},
          "execution_count": 12
        }
      ]
    },
    {
      "cell_type": "code",
      "metadata": {
        "id": "-8L7k5abq77W"
      },
      "source": [
        "#Taking 5 clusters\n",
        "Dbscan1 = AgglomerativeClustering(n_clusters=5)\n",
        "#Fitting the input data\n",
        "Dbscan_Fit= Dbscan1.fit(reduced_data)"
      ],
      "execution_count": null,
      "outputs": []
    },
    {
      "cell_type": "code",
      "metadata": {
        "colab": {
          "base_uri": "https://localhost:8080/"
        },
        "id": "WevR-SlexoHc",
        "outputId": "44b8f7e9-ebc6-42b3-b6e0-ffb0016c9cf0"
      },
      "source": [
        "Dbscan_labels = Dbscan_Fit.labels_\n",
        "#print(\"Silhouette Score for 5 Cluster\")\n",
        "print(\"DBScan Output Cluster v1\")\n",
        "print(Dbscan_labels)"
      ],
      "execution_count": null,
      "outputs": [
        {
          "output_type": "stream",
          "name": "stdout",
          "text": [
            "DBScan Output Cluster v1\n",
            "[4 3 4 3 4 3 4 3 4 3 4 3 4 3 4 3 4 3 4 3 4 3 4 3 4 3 4 3 4 3 4 3 4 3 4 3 4\n",
            " 3 4 3 4 3 4 2 4 2 2 2 2 2 2 2 2 2 2 2 2 2 2 2 2 2 2 2 2 2 2 2 2 2 2 2 2 2\n",
            " 2 2 2 2 2 2 2 2 2 2 2 2 2 2 2 2 2 2 2 2 2 2 2 2 2 2 2 2 2 2 2 2 2 2 2 2 2\n",
            " 2 2 2 2 2 2 2 2 2 2 2 2 1 2 1 2 1 0 1 0 1 2 1 0 1 0 1 0 1 0 1 2 1 0 1 2 1\n",
            " 0 1 0 1 0 1 0 1 0 1 0 1 2 1 0 1 0 1 0 1 0 1 0 1 0 1 0 1 0 1 0 1 0 1 0 1 0\n",
            " 1 0 1 0 1 0 1 0 1 0 1 0 1 0 1]\n"
          ]
        }
      ]
    },
    {
      "cell_type": "code",
      "metadata": {
        "colab": {
          "base_uri": "https://localhost:8080/"
        },
        "id": "JQB3oJEDyGPu",
        "outputId": "56c448d2-d286-431b-9a30-e07668c1ae57"
      },
      "source": [
        "#Frequency count of the Output clusters\n",
        "unique, counts = np.unique(Dbscan_labels, return_counts=True)\n",
        "Dbscan_freq = dict(zip(unique, counts))\n",
        "print(\"Frequency of DBScan Output Clusters\")\n",
        "print(Dbscan_freq)"
      ],
      "execution_count": null,
      "outputs": [
        {
          "output_type": "stream",
          "name": "stdout",
          "text": [
            "Frequency of DBScan Output Clusters\n",
            "{0: 32, 1: 39, 2: 85, 3: 21, 4: 23}\n"
          ]
        }
      ]
    },
    {
      "cell_type": "code",
      "metadata": {
        "id": "pU1bXLcErvR9",
        "colab": {
          "base_uri": "https://localhost:8080/"
        },
        "outputId": "e89a1c59-f785-41bb-c428-e9c00815eade"
      },
      "source": [
        "print(\"Silhouette Score for 5 Cluster\")\n",
        "Dbscan_silhouette=silhouette_score(reduced_data,Dbscan_labels)\n",
        "print(Dbscan_silhouette)\n",
        "# Dbscan_silhouette= \"N/A\""
      ],
      "execution_count": null,
      "outputs": [
        {
          "output_type": "stream",
          "name": "stdout",
          "text": [
            "Silhouette Score for 5 Cluster\n",
            "0.5477785638529052\n"
          ]
        }
      ]
    },
    {
      "cell_type": "markdown",
      "metadata": {
        "id": "HYOmIHZPkaHl"
      },
      "source": [
        "###**4) Gaussian Mixture Algorithm**"
      ]
    },
    {
      "cell_type": "code",
      "metadata": {
        "colab": {
          "base_uri": "https://localhost:8080/"
        },
        "id": "6Iys74Vps_gs",
        "outputId": "f4bd4118-ee62-4a00-fcc4-e23bdf35ea30"
      },
      "source": [
        "GM1= GaussianMixture(n_components=5)\n",
        "GM_Fit = GM1.fit(reduced_data)\n",
        "GM_Fit"
      ],
      "execution_count": null,
      "outputs": [
        {
          "output_type": "execute_result",
          "data": {
            "text/plain": [
              "GaussianMixture(covariance_type='full', init_params='kmeans', max_iter=100,\n",
              "                means_init=None, n_components=5, n_init=1, precisions_init=None,\n",
              "                random_state=None, reg_covar=1e-06, tol=0.001, verbose=0,\n",
              "                verbose_interval=10, warm_start=False, weights_init=None)"
            ]
          },
          "metadata": {},
          "execution_count": 17
        }
      ]
    },
    {
      "cell_type": "code",
      "metadata": {
        "colab": {
          "base_uri": "https://localhost:8080/"
        },
        "id": "qyVZaxmMtyq_",
        "outputId": "6d5b01e4-ff7e-43c6-c3e9-edacac4ca034"
      },
      "source": [
        "# GM Output\n",
        "GM_labels = GM_Fit.predict(reduced_data)\n",
        "print(\"Gaussian Output Clusters\")\n",
        "print(GM_labels)"
      ],
      "execution_count": null,
      "outputs": [
        {
          "output_type": "stream",
          "name": "stdout",
          "text": [
            "Gaussian Output Clusters\n",
            "[3 4 3 4 3 4 3 4 3 4 3 4 3 4 3 4 3 4 3 4 3 4 3 4 3 4 3 4 3 4 3 4 3 4 3 4 3\n",
            " 4 3 4 3 4 3 0 3 0 0 0 0 0 0 0 0 0 0 0 0 0 0 0 0 0 0 0 0 0 0 0 0 0 0 0 0 0\n",
            " 0 0 0 0 0 0 0 0 0 0 0 0 0 0 0 0 0 0 0 0 0 0 0 0 0 0 0 0 0 0 0 0 0 0 0 0 0\n",
            " 0 0 0 0 0 0 0 0 0 0 0 0 1 0 1 0 1 2 1 2 1 0 1 2 1 2 1 2 1 2 1 0 1 2 1 0 1\n",
            " 2 1 2 1 2 1 2 1 2 1 2 1 2 1 2 1 2 1 2 1 2 1 2 1 2 1 2 1 2 1 2 1 2 1 2 1 2\n",
            " 1 2 1 2 1 2 1 2 1 2 1 2 1 2 1]\n"
          ]
        }
      ]
    },
    {
      "cell_type": "code",
      "metadata": {
        "colab": {
          "base_uri": "https://localhost:8080/"
        },
        "id": "iwNiJNNdzkws",
        "outputId": "7117f541-542b-498f-ee51-c4fd79e77c7a"
      },
      "source": [
        "#Frequency count of the Output clusters\n",
        "unique, counts = np.unique(GM_labels, return_counts=True)\n",
        "GM_freq = dict(zip(unique, counts))\n",
        "print(\"Frequency of Gaussian Mixture Output Clusters\")\n",
        "print(GM_freq)"
      ],
      "execution_count": null,
      "outputs": [
        {
          "output_type": "stream",
          "name": "stdout",
          "text": [
            "Frequency of Gaussian Mixture Output Clusters\n",
            "{0: 84, 1: 39, 2: 33, 3: 23, 4: 21}\n"
          ]
        }
      ]
    },
    {
      "cell_type": "code",
      "metadata": {
        "colab": {
          "base_uri": "https://localhost:8080/"
        },
        "id": "jd7Kbo0uuC45",
        "outputId": "b6331601-8ce7-45c9-ecc9-c727caa16d18"
      },
      "source": [
        "#print(\"Silhouette Score for 5 Cluster\")\n",
        "GM_silhouette=silhouette_score(reduced_data,GM_labels)\n",
        "print(GM_silhouette)"
      ],
      "execution_count": null,
      "outputs": [
        {
          "output_type": "stream",
          "name": "stdout",
          "text": [
            "0.5505962413280974\n"
          ]
        }
      ]
    },
    {
      "cell_type": "markdown",
      "metadata": {
        "id": "_IS08DRRGr8M"
      },
      "source": [
        "##**Summary:**"
      ]
    },
    {
      "cell_type": "code",
      "metadata": {
        "colab": {
          "base_uri": "https://localhost:8080/",
          "height": 175
        },
        "id": "SGPQyFHAGwhR",
        "outputId": "10df51d6-a7cb-4e64-d4b4-3df34cbd5e41"
      },
      "source": [
        "df1 = pd.DataFrame({\n",
        "    'Cluster Algorithms': ['Kmeans','Agglomerative','DBSCAN', 'Gaussian Mixture'],\n",
        "    'Number of Clusters': [5,5,1,5],\n",
        "    'Silhouette Score': [KM_silhouette, Agg_silhouette, Dbscan_silhouette, GM_silhouette],\n",
        "    'Final Decision': ['Selected', 'Not Selected', 'Data Density N/A', 'Not Selected']})\n",
        "df1"
      ],
      "execution_count": null,
      "outputs": [
        {
          "output_type": "execute_result",
          "data": {
            "text/html": [
              "<div>\n",
              "<style scoped>\n",
              "    .dataframe tbody tr th:only-of-type {\n",
              "        vertical-align: middle;\n",
              "    }\n",
              "\n",
              "    .dataframe tbody tr th {\n",
              "        vertical-align: top;\n",
              "    }\n",
              "\n",
              "    .dataframe thead th {\n",
              "        text-align: right;\n",
              "    }\n",
              "</style>\n",
              "<table border=\"1\" class=\"dataframe\">\n",
              "  <thead>\n",
              "    <tr style=\"text-align: right;\">\n",
              "      <th></th>\n",
              "      <th>Cluster Algorithms</th>\n",
              "      <th>Number of Clusters</th>\n",
              "      <th>Silhouette Score</th>\n",
              "      <th>Final Decision</th>\n",
              "    </tr>\n",
              "  </thead>\n",
              "  <tbody>\n",
              "    <tr>\n",
              "      <th>0</th>\n",
              "      <td>Kmeans</td>\n",
              "      <td>5</td>\n",
              "      <td>0.552626</td>\n",
              "      <td>Selected</td>\n",
              "    </tr>\n",
              "    <tr>\n",
              "      <th>1</th>\n",
              "      <td>Agglomerative</td>\n",
              "      <td>5</td>\n",
              "      <td>0.547779</td>\n",
              "      <td>Not Selected</td>\n",
              "    </tr>\n",
              "    <tr>\n",
              "      <th>2</th>\n",
              "      <td>DBSCAN</td>\n",
              "      <td>1</td>\n",
              "      <td>0.547779</td>\n",
              "      <td>Data Density N/A</td>\n",
              "    </tr>\n",
              "    <tr>\n",
              "      <th>3</th>\n",
              "      <td>Gaussian Mixture</td>\n",
              "      <td>5</td>\n",
              "      <td>0.550596</td>\n",
              "      <td>Not Selected</td>\n",
              "    </tr>\n",
              "  </tbody>\n",
              "</table>\n",
              "</div>"
            ],
            "text/plain": [
              "  Cluster Algorithms  Number of Clusters  Silhouette Score    Final Decision\n",
              "0             Kmeans                   5          0.552626          Selected\n",
              "1      Agglomerative                   5          0.547779      Not Selected\n",
              "2             DBSCAN                   1          0.547779  Data Density N/A\n",
              "3   Gaussian Mixture                   5          0.550596      Not Selected"
            ]
          },
          "metadata": {},
          "execution_count": 21
        }
      ]
    },
    {
      "cell_type": "code",
      "metadata": {
        "id": "8_1b31YYGbpb"
      },
      "source": [
        ""
      ],
      "execution_count": null,
      "outputs": []
    }
  ]
}